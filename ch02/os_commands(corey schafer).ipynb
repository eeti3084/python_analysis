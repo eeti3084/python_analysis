{
 "cells": [
  {
   "cell_type": "markdown",
   "metadata": {},
   "source": [
    "import os\n",
    "print(dir(os))"
   ]
  },
  {
   "cell_type": "code",
   "execution_count": 9,
   "metadata": {
    "scrolled": true
   },
   "outputs": [
    {
     "name": "stdout",
     "output_type": "stream",
     "text": [
      "D:\\python\\wesmckinney\\PythonForDataAnalysis_WesMcKinney\\ch02\n"
     ]
    }
   ],
   "source": [
    "import os\n",
    "print(os.getcwd())"
   ]
  },
  {
   "cell_type": "markdown",
   "metadata": {},
   "source": [
    "import os\n",
    "os.getcwd()\n",
    "os.chdir('D:/python/wesmckinney/')\n",
    "for dirpath,dirnames,filenames in os.walk('D:/python/wesmckinney/'):\n",
    "    print('CURRENT PATH:',dirpath)\n",
    "print(os.enviorn.get('HOME'))"
   ]
  },
  {
   "cell_type": "code",
   "execution_count": 28,
   "metadata": {},
   "outputs": [
    {
     "name": "stdout",
     "output_type": "stream",
     "text": [
      "C:\\Users\\Shan\n",
      "D:\\python\\wesmckinney\\test.txt\n",
      "('/temp', 'test.txt')\n",
      "False\n",
      "False\n"
     ]
    }
   ],
   "source": [
    "\n",
    "print(os.environ.get('HOME'))\n",
    "\n",
    "file_path=os.path.join(os.getcwd(),'test.txt')\n",
    "print(file_path)\n",
    "print(os.path.split('/temp/test.txt'))\n",
    "print(os.path.exists('/temp/test.txt'))\n",
    "print(os.path.isdir('/temp/test.txt'))"
   ]
  },
  {
   "cell_type": "code",
   "execution_count": 13,
   "metadata": {},
   "outputs": [
    {
     "data": {
      "text/plain": [
       "<function dir>"
      ]
     },
     "execution_count": 13,
     "metadata": {},
     "output_type": "execute_result"
    }
   ],
   "source": []
  },
  {
   "cell_type": "code",
   "execution_count": 14,
   "metadata": {},
   "outputs": [
    {
     "data": {
      "text/plain": [
       "['In',\n",
       " 'Out',\n",
       " '_',\n",
       " '_1',\n",
       " '_13',\n",
       " '_2',\n",
       " '_3',\n",
       " '_6',\n",
       " '__',\n",
       " '___',\n",
       " '__builtin__',\n",
       " '__builtins__',\n",
       " '__doc__',\n",
       " '__loader__',\n",
       " '__name__',\n",
       " '__package__',\n",
       " '__spec__',\n",
       " '_dh',\n",
       " '_exit_code',\n",
       " '_i',\n",
       " '_i1',\n",
       " '_i10',\n",
       " '_i11',\n",
       " '_i12',\n",
       " '_i13',\n",
       " '_i14',\n",
       " '_i2',\n",
       " '_i3',\n",
       " '_i4',\n",
       " '_i5',\n",
       " '_i6',\n",
       " '_i7',\n",
       " '_i8',\n",
       " '_i9',\n",
       " '_ih',\n",
       " '_ii',\n",
       " '_iii',\n",
       " '_oh',\n",
       " 'exit',\n",
       " 'get_ipython',\n",
       " 'os',\n",
       " 'quit']"
      ]
     },
     "execution_count": 14,
     "metadata": {},
     "output_type": "execute_result"
    }
   ],
   "source": [
    "dir()"
   ]
  },
  {
   "cell_type": "code",
   "execution_count": 15,
   "metadata": {},
   "outputs": [
    {
     "name": "stdout",
     "output_type": "stream",
     "text": [
      " Volume in drive D is New Volume\n",
      " Volume Serial Number is 38A0-AD06\n",
      "\n",
      " Directory of D:\\python\\wesmckinney\\PythonForDataAnalysis_WesMcKinney\\ch02\n",
      "\n",
      "10/25/2017  04:01 PM    <DIR>          .\n",
      "10/25/2017  04:01 PM    <DIR>          ..\n",
      "10/25/2017  03:46 PM    <DIR>          .ipynb_checkpoints\n",
      "10/25/2017  04:00 PM    <DIR>          'demo'\n",
      "10/25/2017  03:43 PM    <DIR>          movielens\n",
      "10/25/2017  03:43 PM    <DIR>          names\n",
      "10/25/2017  04:01 PM             2,967 Untitled.ipynb\n",
      "10/25/2017  03:43 PM         1,601,842 usagov_bitly_data2012-03-16-1331923249.txt\n",
      "               2 File(s)      1,604,809 bytes\n",
      "               6 Dir(s)  76,170,997,760 bytes free\n"
     ]
    }
   ],
   "source": [
    "ls"
   ]
  },
  {
   "cell_type": "code",
   "execution_count": 16,
   "metadata": {},
   "outputs": [
    {
     "name": "stdout",
     "output_type": "stream",
     "text": [
      " Volume in drive D is New Volume\n",
      " Volume Serial Number is 38A0-AD06\n",
      "\n",
      " Directory of D:\\python\\wesmckinney\\PythonForDataAnalysis_WesMcKinney\\ch02\n",
      "\n"
     ]
    },
    {
     "name": "stderr",
     "output_type": "stream",
     "text": [
      "File Not Found\n"
     ]
    }
   ],
   "source": [
    "ls -l"
   ]
  },
  {
   "cell_type": "code",
   "execution_count": null,
   "metadata": {},
   "outputs": [],
   "source": []
  }
 ],
 "metadata": {
  "kernelspec": {
   "display_name": "Python 3",
   "language": "python",
   "name": "python3"
  },
  "language_info": {
   "codemirror_mode": {
    "name": "ipython",
    "version": 3
   },
   "file_extension": ".py",
   "mimetype": "text/x-python",
   "name": "python",
   "nbconvert_exporter": "python",
   "pygments_lexer": "ipython3",
   "version": "3.6.0"
  }
 },
 "nbformat": 4,
 "nbformat_minor": 2
}
